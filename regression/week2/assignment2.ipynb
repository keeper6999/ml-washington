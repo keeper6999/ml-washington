{
 "cells": [
  {
   "cell_type": "code",
   "execution_count": 1,
   "metadata": {},
   "outputs": [],
   "source": [
    "import pandas as pd\n",
    "\n",
    "import numpy as np\n",
    "\n",
    "from sklearn.linear_model import LinearRegression"
   ]
  },
  {
   "cell_type": "code",
   "execution_count": 2,
   "metadata": {},
   "outputs": [],
   "source": [
    "train_data = pd.read_csv('kc_house_train_data.csv')\n",
    "\n",
    "test_data = pd.read_csv('kc_house_test_data.csv')"
   ]
  },
  {
   "cell_type": "code",
   "execution_count": 4,
   "metadata": {},
   "outputs": [],
   "source": [
    "def get_numpy_data(data, features, output):\n",
    "    data['constant'] = 1 \n",
    "    return (data[['constant'] + features], data[output])"
   ]
  },
  {
   "cell_type": "code",
   "execution_count": 6,
   "metadata": {},
   "outputs": [],
   "source": [
    "def predict_outcome(features, weights):\n",
    "    '''\n",
    "    features   N * f\n",
    "    weights    f * 1\n",
    "    '''\n",
    "    return np.dot(features, weights)"
   ]
  },
  {
   "cell_type": "code",
   "execution_count": 8,
   "metadata": {},
   "outputs": [],
   "source": [
    "def derivative(features, weights, target):\n",
    "    '''\n",
    "    features   N * f\n",
    "    weights    f * 1\n",
    "    target     N * 1\n",
    "    '''\n",
    "    outcome = predict_outcome(features, weights)\n",
    "    return -2 * np.dot(features.T, target - outcome)"
   ]
  },
  {
   "cell_type": "code",
   "execution_count": 30,
   "metadata": {},
   "outputs": [],
   "source": [
    "def regression_gradient_descent(feature_matrix, output, initial_weights, step_size, tolerance):\n",
    "    converged = False\n",
    "\n",
    "    weights = np.array(initial_weights)\n",
    "\n",
    "    while not converged:\n",
    "        d_weights = derivative(feature_matrix, weights, output)\n",
    "        \n",
    "        gradient_magnitude = np.sqrt(np.sum(d_weights ** 2))\n",
    "\n",
    "        if gradient_magnitude < tolerance:\n",
    "            converged = True\n",
    "        else:\n",
    "            weights = weights - step_size * d_weights\n",
    "\n",
    "    return weights"
   ]
  },
  {
   "cell_type": "code",
   "execution_count": 34,
   "metadata": {},
   "outputs": [],
   "source": [
    "def get_model_weights(data, features, output, initial_weights, step_size, tolerance):\n",
    "    (feature_matrix, target) = get_numpy_data(data, features, output)\n",
    "    return regression_gradient_descent(feature_matrix, target, initial_weights, step_size, tolerance)"
   ]
  },
  {
   "cell_type": "code",
   "execution_count": 35,
   "metadata": {},
   "outputs": [],
   "source": [
    "output = 'price'"
   ]
  },
  {
   "cell_type": "code",
   "execution_count": 37,
   "metadata": {},
   "outputs": [
    {
     "data": {
      "text/plain": [
       "array([-46999.88716085,    281.91224733])"
      ]
     },
     "execution_count": 37,
     "metadata": {},
     "output_type": "execute_result"
    }
   ],
   "source": [
    "simple_features = ['sqft_living']\n",
    "\n",
    "weights1 = get_model_weights(train_data, simple_features, output, np.array([-47000., 1.]), 7e-12, 2.5e7)"
   ]
  },
  {
   "cell_type": "code",
   "execution_count": 47,
   "metadata": {},
   "outputs": [],
   "source": [
    "(test_simple_feature_matrix, _) = get_numpy_data(test_data, simple_features, output)\n",
    "\n",
    "test_predictions1 = predict_outcome(test_simple_feature_matrix, weights1)"
   ]
  },
  {
   "cell_type": "code",
   "execution_count": 49,
   "metadata": {},
   "outputs": [
    {
     "data": {
      "text/plain": [
       "356134.62652028602"
      ]
     },
     "execution_count": 49,
     "metadata": {},
     "output_type": "execute_result"
    }
   ],
   "source": [
    "test_predictions1[0]"
   ]
  },
  {
   "cell_type": "code",
   "execution_count": 53,
   "metadata": {},
   "outputs": [
    {
     "name": "stdout",
     "output_type": "stream",
     "text": [
      "[ -9.99999688e+04   2.45069901e+02   6.52824617e+01]\n"
     ]
    }
   ],
   "source": [
    "model_features = ['sqft_living', 'sqft_living15']\n",
    "\n",
    "weights2 = get_model_weights(train_data, model_features, output, np.array([-100000., 1., 1.]), 4e-12, 1e9)"
   ]
  },
  {
   "cell_type": "code",
   "execution_count": 51,
   "metadata": {},
   "outputs": [],
   "source": [
    "(test_model_feature_matrix, _) = get_numpy_data(test_data, model_features, output)\n",
    "\n",
    "test_predictions2 = predict_outcome(test_model_feature_matrix, weights2)"
   ]
  },
  {
   "cell_type": "code",
   "execution_count": 52,
   "metadata": {},
   "outputs": [
    {
     "data": {
      "text/plain": [
       "366652.77081578644"
      ]
     },
     "execution_count": 52,
     "metadata": {},
     "output_type": "execute_result"
    }
   ],
   "source": [
    "test_predictions2[0]"
   ]
  },
  {
   "cell_type": "code",
   "execution_count": 61,
   "metadata": {},
   "outputs": [],
   "source": [
    "real = test_data['price']"
   ]
  },
  {
   "cell_type": "code",
   "execution_count": 62,
   "metadata": {},
   "outputs": [
    {
     "data": {
      "text/plain": [
       "310000.0"
      ]
     },
     "execution_count": 62,
     "metadata": {},
     "output_type": "execute_result"
    }
   ],
   "source": [
    "real[0]"
   ]
  },
  {
   "cell_type": "code",
   "execution_count": 63,
   "metadata": {},
   "outputs": [],
   "source": [
    "def get_residual_sum_of_squares(predictions, real):\n",
    "    errors = real - predictions\n",
    "    return np.sum(errors * errors)"
   ]
  },
  {
   "cell_type": "code",
   "execution_count": 64,
   "metadata": {},
   "outputs": [
    {
     "name": "stdout",
     "output_type": "stream",
     "text": [
      "2.75400042408e+14\n",
      "2.70263313689e+14\n"
     ]
    }
   ],
   "source": [
    "print(get_residual_sum_of_squares(test_predictions1, real))\n",
    "\n",
    "print(get_residual_sum_of_squares(test_predictions2, real))"
   ]
  },
  {
   "cell_type": "code",
   "execution_count": null,
   "metadata": {},
   "outputs": [],
   "source": []
  }
 ],
 "metadata": {
  "kernelspec": {
   "display_name": "Python 3",
   "language": "python",
   "name": "python3"
  },
  "language_info": {
   "codemirror_mode": {
    "name": "ipython",
    "version": 3
   },
   "file_extension": ".py",
   "mimetype": "text/x-python",
   "name": "python",
   "nbconvert_exporter": "python",
   "pygments_lexer": "ipython3",
   "version": "3.6.3"
  }
 },
 "nbformat": 4,
 "nbformat_minor": 2
}
