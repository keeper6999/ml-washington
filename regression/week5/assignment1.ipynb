{
 "cells": [
  {
   "cell_type": "code",
   "execution_count": 43,
   "metadata": {},
   "outputs": [],
   "source": [
    "from math import log, sqrt\n",
    "\n",
    "import pandas as pd\n",
    "\n",
    "import numpy as np\n",
    "\n",
    "from sklearn import linear_model"
   ]
  },
  {
   "cell_type": "code",
   "execution_count": 44,
   "metadata": {},
   "outputs": [],
   "source": [
    "dtype_dict = {\n",
    "    'bathrooms': float,\n",
    "    'bedrooms': float,\n",
    "    'condition': int,\n",
    "    'date': str,\n",
    "    'floors': float,\n",
    "    'grade': int,\n",
    "    'id': str,\n",
    "    'lat': float,\n",
    "    'long': float,\n",
    "    'price': float,\n",
    "    'sqft_above': int,\n",
    "    'sqft_basement': int,\n",
    "    'sqft_living': float,\n",
    "    'sqft_living15': float,\n",
    "    'sqft_lot': int,\n",
    "    'sqft_lot15': float,\n",
    "    'view': int,\n",
    "    'waterfront': int,\n",
    "    'yr_built': int,\n",
    "    'yr_renovated': int,\n",
    "    'zipcode': str\n",
    "}"
   ]
  },
  {
   "cell_type": "code",
   "execution_count": 45,
   "metadata": {},
   "outputs": [],
   "source": [
    "kc_house_data = pd.read_csv('kc_house_data.csv', dtype=dtype_dict)"
   ]
  },
  {
   "cell_type": "code",
   "execution_count": 46,
   "metadata": {},
   "outputs": [],
   "source": [
    "sales = kc_house_data\n",
    "sales['sqft_living_sqrt'] = sales['sqft_living'].apply(sqrt)\n",
    "sales['sqft_lot_sqrt'] = sales['sqft_lot'].apply(sqrt)\n",
    "sales['bedrooms_square'] = sales['bedrooms'] * sales['bedrooms']\n",
    "sales['floors_square'] = sales['floors'] * sales['floors']"
   ]
  },
  {
   "cell_type": "code",
   "execution_count": 47,
   "metadata": {},
   "outputs": [
    {
     "data": {
      "text/plain": [
       "Index(['id', 'date', 'price', 'bedrooms', 'bathrooms', 'sqft_living',\n",
       "       'sqft_lot', 'floors', 'waterfront', 'view', 'condition', 'grade',\n",
       "       'sqft_above', 'sqft_basement', 'yr_built', 'yr_renovated', 'zipcode',\n",
       "       'lat', 'long', 'sqft_living15', 'sqft_lot15', 'sqft_living_sqrt',\n",
       "       'sqft_lot_sqrt', 'bedrooms_square', 'floors_square'],\n",
       "      dtype='object')"
      ]
     },
     "execution_count": 47,
     "metadata": {},
     "output_type": "execute_result"
    }
   ],
   "source": [
    "sales.columns"
   ]
  },
  {
   "cell_type": "code",
   "execution_count": 48,
   "metadata": {},
   "outputs": [
    {
     "data": {
      "text/plain": [
       "Lasso(alpha=500.0, copy_X=True, fit_intercept=True, max_iter=1000,\n",
       "   normalize=True, positive=False, precompute=False, random_state=None,\n",
       "   selection='cyclic', tol=0.0001, warm_start=False)"
      ]
     },
     "execution_count": 48,
     "metadata": {},
     "output_type": "execute_result"
    }
   ],
   "source": [
    "all_features = [\n",
    "    'bedrooms',\n",
    "    'bedrooms_square',\n",
    "    'bathrooms',\n",
    "    'sqft_living',\n",
    "    'sqft_living_sqrt',\n",
    "    'sqft_lot',\n",
    "    'sqft_lot_sqrt',\n",
    "    'floors',\n",
    "    'floors_square',\n",
    "    'waterfront',\n",
    "    'view',\n",
    "    'condition',\n",
    "    'grade',\n",
    "    'sqft_above',\n",
    "    'sqft_basement',\n",
    "    'yr_built',\n",
    "    'yr_renovated'\n",
    "]\n",
    "\n",
    "model_all = linear_model.Lasso(alpha=5e2, normalize=True)      # set parameters\n",
    "model_all.fit(sales[all_features], sales['price'])             # learn weights"
   ]
  },
  {
   "cell_type": "code",
   "execution_count": 49,
   "metadata": {},
   "outputs": [
    {
     "data": {
      "text/plain": [
       "[('bedrooms', 0.0),\n",
       " ('bedrooms_square', 0.0),\n",
       " ('bathrooms', 0.0),\n",
       " ('sqft_living', 134.43931395541438),\n",
       " ('sqft_living_sqrt', 0.0),\n",
       " ('sqft_lot', 0.0),\n",
       " ('sqft_lot_sqrt', 0.0),\n",
       " ('floors', 0.0),\n",
       " ('floors_square', 0.0),\n",
       " ('waterfront', 0.0),\n",
       " ('view', 24750.00458560952),\n",
       " ('condition', 0.0),\n",
       " ('grade', 61749.103090708129),\n",
       " ('sqft_above', 0.0),\n",
       " ('sqft_basement', 0.0),\n",
       " ('yr_built', -0.0),\n",
       " ('yr_renovated', 0.0)]"
      ]
     },
     "execution_count": 49,
     "metadata": {},
     "output_type": "execute_result"
    }
   ],
   "source": [
    "list(zip(all_features, model_all.coef_))"
   ]
  },
  {
   "cell_type": "code",
   "execution_count": 50,
   "metadata": {},
   "outputs": [],
   "source": [
    "testing = pd.read_csv('wk3_kc_house_test_data.csv', dtype=dtype_dict)\n",
    "training = pd.read_csv('wk3_kc_house_train_data.csv', dtype=dtype_dict)\n",
    "validation = pd.read_csv('wk3_kc_house_valid_data.csv', dtype=dtype_dict)"
   ]
  },
  {
   "cell_type": "code",
   "execution_count": 51,
   "metadata": {},
   "outputs": [],
   "source": [
    "testing['sqft_living_sqrt'] = testing['sqft_living'].apply(sqrt)\n",
    "testing['sqft_lot_sqrt'] = testing['sqft_lot'].apply(sqrt)\n",
    "testing['bedrooms_square'] = testing['bedrooms'] * testing['bedrooms']\n",
    "testing['floors_square'] = testing['floors'] * testing['floors']\n",
    "\n",
    "training['sqft_living_sqrt'] = training['sqft_living'].apply(sqrt)\n",
    "training['sqft_lot_sqrt'] = training['sqft_lot'].apply(sqrt)\n",
    "training['bedrooms_square'] = training['bedrooms'] * training['bedrooms']\n",
    "training['floors_square'] = training['floors'] * training['floors']\n",
    "\n",
    "validation['sqft_living_sqrt'] = validation['sqft_living'].apply(sqrt)\n",
    "validation['sqft_lot_sqrt'] = validation['sqft_lot'].apply(sqrt)\n",
    "validation['bedrooms_square'] = validation['bedrooms'] * validation['bedrooms']\n",
    "validation['floors_square'] = validation['floors'] * validation['floors']"
   ]
  },
  {
   "cell_type": "code",
   "execution_count": 52,
   "metadata": {},
   "outputs": [],
   "source": [
    "def compute_rss(predictions, real):\n",
    "    errors = real - predictions\n",
    "    rss = sum(errors * errors)\n",
    "    return rss"
   ]
  },
  {
   "cell_type": "code",
   "execution_count": 53,
   "metadata": {},
   "outputs": [],
   "source": [
    "l1_penalties = np.logspace(1, 7, num=13)"
   ]
  },
  {
   "cell_type": "code",
   "execution_count": 54,
   "metadata": {},
   "outputs": [
    {
     "data": {
      "text/plain": [
       "array([  1.00000000e+01,   3.16227766e+01,   1.00000000e+02,\n",
       "         3.16227766e+02,   1.00000000e+03,   3.16227766e+03,\n",
       "         1.00000000e+04,   3.16227766e+04,   1.00000000e+05,\n",
       "         3.16227766e+05,   1.00000000e+06,   3.16227766e+06,\n",
       "         1.00000000e+07])"
      ]
     },
     "execution_count": 54,
     "metadata": {},
     "output_type": "execute_result"
    }
   ],
   "source": [
    "l1_penalties"
   ]
  },
  {
   "cell_type": "code",
   "execution_count": 55,
   "metadata": {},
   "outputs": [
    {
     "data": {
      "text/plain": [
       "1439386143411749.5"
      ]
     },
     "execution_count": 55,
     "metadata": {},
     "output_type": "execute_result"
    }
   ],
   "source": [
    "compute_rss(model_all.predict(sales[all_features]), sales['price'])"
   ]
  },
  {
   "cell_type": "code",
   "execution_count": 58,
   "metadata": {},
   "outputs": [],
   "source": [
    "def choose_l1_penalty(l1_penalties):\n",
    "    for p in l1_penalties:\n",
    "        model = linear_model.Lasso(alpha=p, normalize=True)\n",
    "        model.fit(training[all_features], training['price'])\n",
    "        rss = compute_rss(model.predict(validation[all_features]), validation['price'])\n",
    "        print('%f\\t%f' % (p, rss))"
   ]
  },
  {
   "cell_type": "code",
   "execution_count": 59,
   "metadata": {},
   "outputs": [
    {
     "name": "stdout",
     "output_type": "stream",
     "text": [
      "10.000000\t398213327300134.250000\n",
      "31.622777\t399041900253348.562500\n",
      "100.000000\t429791604072558.562500\n",
      "316.227766\t463739831045119.500000\n",
      "1000.000000\t645898733633803.250000\n",
      "3162.277660\t1222506859427156.750000\n",
      "10000.000000\t1222506859427156.750000\n",
      "31622.776602\t1222506859427156.750000\n",
      "100000.000000\t1222506859427156.750000\n",
      "316227.766017\t1222506859427156.750000\n",
      "1000000.000000\t1222506859427156.750000\n",
      "3162277.660168\t1222506859427156.750000\n",
      "10000000.000000\t1222506859427156.750000\n"
     ]
    }
   ],
   "source": [
    "choose_l1_penalty(l1_penalties)"
   ]
  },
  {
   "cell_type": "code",
   "execution_count": 60,
   "metadata": {},
   "outputs": [],
   "source": [
    "best_l1_penalty = l1_penalties[0]"
   ]
  },
  {
   "cell_type": "code",
   "execution_count": 61,
   "metadata": {},
   "outputs": [
    {
     "data": {
      "text/plain": [
       "Lasso(alpha=10.0, copy_X=True, fit_intercept=True, max_iter=1000,\n",
       "   normalize=True, positive=False, precompute=False, random_state=None,\n",
       "   selection='cyclic', tol=0.0001, warm_start=False)"
      ]
     },
     "execution_count": 61,
     "metadata": {},
     "output_type": "execute_result"
    }
   ],
   "source": [
    "model = linear_model.Lasso(alpha=best_l1_penalty, normalize=True)\n",
    "model.fit(training[all_features], training['price'])"
   ]
  },
  {
   "cell_type": "code",
   "execution_count": 67,
   "metadata": {},
   "outputs": [
    {
     "data": {
      "text/plain": [
       "[('bedrooms', -16144.562757076479),\n",
       " ('bedrooms_square', 373.24538434909186),\n",
       " ('bathrooms', 50841.243339864224),\n",
       " ('sqft_living', 617.85355950427777),\n",
       " ('sqft_living_sqrt', -44411.354866711656),\n",
       " ('sqft_lot', 0.7856230648316227),\n",
       " ('sqft_lot_sqrt', -701.19476536814375),\n",
       " ('floors', -0.0),\n",
       " ('floors_square', 5014.2004569684996),\n",
       " ('waterfront', 619488.75248591264),\n",
       " ('view', 38041.855652474056),\n",
       " ('condition', 24998.771838159253),\n",
       " ('grade', 128716.23462146104),\n",
       " ('sqft_above', 0.0),\n",
       " ('sqft_basement', 0.0),\n",
       " ('yr_built', -3293.8311799453932),\n",
       " ('yr_renovated', 10.057320864287972)]"
      ]
     },
     "execution_count": 67,
     "metadata": {},
     "output_type": "execute_result"
    }
   ],
   "source": [
    "list(zip(all_features, model.coef_))"
   ]
  },
  {
   "cell_type": "code",
   "execution_count": 68,
   "metadata": {},
   "outputs": [
    {
     "data": {
      "text/plain": [
       "15"
      ]
     },
     "execution_count": 68,
     "metadata": {},
     "output_type": "execute_result"
    }
   ],
   "source": [
    "np.count_nonzero(model.coef_) + np.count_nonzero(model.intercept_)"
   ]
  },
  {
   "cell_type": "markdown",
   "metadata": {},
   "source": [
    "## Choose the best model with max_nonzeros"
   ]
  },
  {
   "cell_type": "code",
   "execution_count": 69,
   "metadata": {},
   "outputs": [],
   "source": [
    "max_nonzeros = 7"
   ]
  },
  {
   "cell_type": "code",
   "execution_count": 70,
   "metadata": {},
   "outputs": [],
   "source": [
    "l1_penalties = np.logspace(1, 4, num=20)"
   ]
  },
  {
   "cell_type": "code",
   "execution_count": 71,
   "metadata": {},
   "outputs": [
    {
     "data": {
      "text/plain": [
       "array([    10.        ,     14.38449888,     20.69138081,     29.76351442,\n",
       "           42.81332399,     61.58482111,     88.58667904,    127.42749857,\n",
       "          183.29807108,    263.66508987,    379.26901907,    545.55947812,\n",
       "          784.75997035,   1128.83789168,   1623.77673919,   2335.72146909,\n",
       "         3359.81828628,   4832.93023857,   6951.92796178,  10000.        ])"
      ]
     },
     "execution_count": 71,
     "metadata": {},
     "output_type": "execute_result"
    }
   ],
   "source": [
    "l1_penalties"
   ]
  },
  {
   "cell_type": "code",
   "execution_count": 80,
   "metadata": {},
   "outputs": [],
   "source": [
    "def get_models(l1_penalties):\n",
    "    models = []\n",
    "    for p in l1_penalties:\n",
    "        model = linear_model.Lasso(alpha=p, normalize=True)\n",
    "        model.fit(training[all_features], training['price'])\n",
    "        models.append(model)\n",
    "    return models"
   ]
  },
  {
   "cell_type": "code",
   "execution_count": 86,
   "metadata": {},
   "outputs": [],
   "source": [
    "def how_many_nonzeros(m):\n",
    "    return np.count_nonzero(m.coef_) + np.count_nonzero(m.intercept_)"
   ]
  },
  {
   "cell_type": "code",
   "execution_count": 81,
   "metadata": {},
   "outputs": [],
   "source": [
    "models = get_models(l1_penalties)"
   ]
  },
  {
   "cell_type": "code",
   "execution_count": 78,
   "metadata": {},
   "outputs": [
    {
     "data": {
      "text/plain": [
       "[(10.0, 15),\n",
       " (14.384498882876629, 15),\n",
       " (20.691380811147901, 15),\n",
       " (29.763514416313178, 15),\n",
       " (42.813323987193932, 13),\n",
       " (61.584821106602639, 12),\n",
       " (88.586679041008225, 11),\n",
       " (127.42749857031335, 10),\n",
       " (183.29807108324357, 7),\n",
       " (263.66508987303581, 6),\n",
       " (379.26901907322497, 6),\n",
       " (545.55947811685144, 6),\n",
       " (784.75997035146065, 5),\n",
       " (1128.8378916846884, 3),\n",
       " (1623.776739188721, 3),\n",
       " (2335.7214690901214, 2),\n",
       " (3359.8182862837812, 1),\n",
       " (4832.9302385717519, 1),\n",
       " (6951.9279617756056, 1),\n",
       " (10000.0, 1)]"
      ]
     },
     "execution_count": 78,
     "metadata": {},
     "output_type": "execute_result"
    }
   ],
   "source": [
    "list(zip(l1_penalties, list(map(lambda m: np.count_nonzero(m.coef_) + np.count_nonzero(m.intercept_), models))))"
   ]
  },
  {
   "cell_type": "code",
   "execution_count": 101,
   "metadata": {},
   "outputs": [],
   "source": [
    "model_min = list(filter(lambda m : how_many_nonzeros(m) > max_nonzeros, models))[-1]"
   ]
  },
  {
   "cell_type": "code",
   "execution_count": 102,
   "metadata": {},
   "outputs": [
    {
     "data": {
      "text/plain": [
       "127.42749857031335"
      ]
     },
     "execution_count": 102,
     "metadata": {},
     "output_type": "execute_result"
    }
   ],
   "source": [
    "model_min.alpha"
   ]
  },
  {
   "cell_type": "code",
   "execution_count": 103,
   "metadata": {},
   "outputs": [],
   "source": [
    "model_max = list(filter(lambda m : how_many_nonzeros(m) < max_nonzeros, models))[0]"
   ]
  },
  {
   "cell_type": "code",
   "execution_count": 104,
   "metadata": {},
   "outputs": [
    {
     "data": {
      "text/plain": [
       "263.66508987303581"
      ]
     },
     "execution_count": 104,
     "metadata": {},
     "output_type": "execute_result"
    }
   ],
   "source": [
    "model_max.alpha"
   ]
  },
  {
   "cell_type": "code",
   "execution_count": 106,
   "metadata": {},
   "outputs": [],
   "source": [
    "l1_penalties = np.linspace(model_min.alpha, model_max.alpha, 20)"
   ]
  },
  {
   "cell_type": "code",
   "execution_count": 108,
   "metadata": {},
   "outputs": [],
   "source": [
    "def select(l1_penalties):\n",
    "    models = {}\n",
    "    for p in l1_penalties:\n",
    "        model = linear_model.Lasso(alpha=p, normalize=True)\n",
    "        model.fit(training[all_features], training['price'])\n",
    "        if how_many_nonzeros(model) != max_nonzeros:\n",
    "            continue\n",
    "        rss = compute_rss(model.predict(validation[all_features]), validation['price'])\n",
    "        models[model] = rss\n",
    "        print('%f\\t%f' % (p, rss))\n",
    "    return min(models, key=models.get)"
   ]
  },
  {
   "cell_type": "code",
   "execution_count": 110,
   "metadata": {},
   "outputs": [
    {
     "name": "stdout",
     "output_type": "stream",
     "text": [
      "156.109097\t440037365263316.437500\n",
      "163.279496\t440777489641605.375000\n",
      "170.449896\t441566698090138.875000\n",
      "177.620295\t442406413188665.562500\n",
      "184.790695\t443296716874312.812500\n",
      "191.961094\t444239780526140.687500\n",
      "199.131494\t445230739842614.312500\n"
     ]
    }
   ],
   "source": [
    "model_best = select(l1_penalties)"
   ]
  },
  {
   "cell_type": "code",
   "execution_count": 111,
   "metadata": {},
   "outputs": [
    {
     "data": {
      "text/plain": [
       "156.10909673930755"
      ]
     },
     "execution_count": 111,
     "metadata": {},
     "output_type": "execute_result"
    }
   ],
   "source": [
    "model_best.alpha"
   ]
  },
  {
   "cell_type": "code",
   "execution_count": 112,
   "metadata": {},
   "outputs": [
    {
     "data": {
      "text/plain": [
       "[('bedrooms', -0.0),\n",
       " ('bedrooms_square', -0.0),\n",
       " ('bathrooms', 10610.890284398287),\n",
       " ('sqft_living', 163.38025164762891),\n",
       " ('sqft_living_sqrt', 0.0),\n",
       " ('sqft_lot', -0.0),\n",
       " ('sqft_lot_sqrt', -0.0),\n",
       " ('floors', 0.0),\n",
       " ('floors_square', 0.0),\n",
       " ('waterfront', 506451.68711484916),\n",
       " ('view', 41960.043554852862),\n",
       " ('condition', 0.0),\n",
       " ('grade', 116253.5536997075),\n",
       " ('sqft_above', 0.0),\n",
       " ('sqft_basement', 0.0),\n",
       " ('yr_built', -2612.2348803574882),\n",
       " ('yr_renovated', 0.0)]"
      ]
     },
     "execution_count": 112,
     "metadata": {},
     "output_type": "execute_result"
    }
   ],
   "source": [
    "list(zip(all_features, model_best.coef_))"
   ]
  },
  {
   "cell_type": "code",
   "execution_count": null,
   "metadata": {},
   "outputs": [],
   "source": []
  }
 ],
 "metadata": {
  "kernelspec": {
   "display_name": "Python 3",
   "language": "python",
   "name": "python3"
  },
  "language_info": {
   "codemirror_mode": {
    "name": "ipython",
    "version": 3
   },
   "file_extension": ".py",
   "mimetype": "text/x-python",
   "name": "python",
   "nbconvert_exporter": "python",
   "pygments_lexer": "ipython3",
   "version": "3.6.4"
  }
 },
 "nbformat": 4,
 "nbformat_minor": 2
}
