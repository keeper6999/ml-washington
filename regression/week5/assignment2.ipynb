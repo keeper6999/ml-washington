{
 "cells": [
  {
   "cell_type": "code",
   "execution_count": 1,
   "metadata": {},
   "outputs": [],
   "source": [
    "from math import log, sqrt\n",
    "\n",
    "import pandas as pd\n",
    "\n",
    "import numpy as np\n",
    "\n",
    "from sklearn import linear_model"
   ]
  },
  {
   "cell_type": "code",
   "execution_count": 2,
   "metadata": {},
   "outputs": [],
   "source": [
    "dtype_dict = {\n",
    "    'bathrooms': float,\n",
    "    'bedrooms': float,\n",
    "    'condition': int,\n",
    "    'date': str,\n",
    "    'floors': float,\n",
    "    'grade': int,\n",
    "    'id': str,\n",
    "    'lat': float,\n",
    "    'long': float,\n",
    "    'price': float,\n",
    "    'sqft_above': int,\n",
    "    'sqft_basement': int,\n",
    "    'sqft_living': float,\n",
    "    'sqft_living15': float,\n",
    "    'sqft_lot': int,\n",
    "    'sqft_lot15': float,\n",
    "    'view': int,\n",
    "    'waterfront': int,\n",
    "    'yr_built': int,\n",
    "    'yr_renovated': int,\n",
    "    'zipcode': str\n",
    "}"
   ]
  },
  {
   "cell_type": "code",
   "execution_count": 3,
   "metadata": {},
   "outputs": [],
   "source": [
    "def get_numpy_data(data, features, output):\n",
    "    data['constant'] = 1 \n",
    "    return (np.array(data[['constant'] + features]), np.array(data[output],))\n",
    "\n",
    "\n",
    "def predict_outcome(features, weights):\n",
    "    '''\n",
    "    features   N * f\n",
    "    weights    f * 1\n",
    "    '''\n",
    "    return np.dot(features, weights)"
   ]
  },
  {
   "cell_type": "code",
   "execution_count": 4,
   "metadata": {},
   "outputs": [],
   "source": [
    "def normalize_features(features):\n",
    "    norms = np.linalg.norm(features, axis=0)\n",
    "    return (features / norms, norms)"
   ]
  },
  {
   "cell_type": "code",
   "execution_count": 5,
   "metadata": {},
   "outputs": [],
   "source": [
    "kc_house_data = pd.read_csv('kc_house_data.csv', dtype=dtype_dict)"
   ]
  },
  {
   "cell_type": "code",
   "execution_count": 6,
   "metadata": {},
   "outputs": [],
   "source": [
    "(features, output) = get_numpy_data(kc_house_data, ['sqft_living', 'bedrooms'], 'price')"
   ]
  },
  {
   "cell_type": "code",
   "execution_count": 7,
   "metadata": {
    "scrolled": true
   },
   "outputs": [
    {
     "data": {
      "text/plain": [
       "array([[  1.00000000e+00,   1.18000000e+03,   3.00000000e+00],\n",
       "       [  1.00000000e+00,   2.57000000e+03,   3.00000000e+00],\n",
       "       [  1.00000000e+00,   7.70000000e+02,   2.00000000e+00],\n",
       "       ..., \n",
       "       [  1.00000000e+00,   1.02000000e+03,   2.00000000e+00],\n",
       "       [  1.00000000e+00,   1.60000000e+03,   3.00000000e+00],\n",
       "       [  1.00000000e+00,   1.02000000e+03,   2.00000000e+00]])"
      ]
     },
     "execution_count": 7,
     "metadata": {},
     "output_type": "execute_result"
    }
   ],
   "source": [
    "features"
   ]
  },
  {
   "cell_type": "code",
   "execution_count": 8,
   "metadata": {},
   "outputs": [],
   "source": [
    "(feature_normed, norms) = normalize_features(features)"
   ]
  },
  {
   "cell_type": "code",
   "execution_count": 9,
   "metadata": {},
   "outputs": [],
   "source": [
    "initial_weights = [1., 4., 1.]"
   ]
  },
  {
   "cell_type": "code",
   "execution_count": 10,
   "metadata": {},
   "outputs": [],
   "source": [
    "initial_prediction = predict_outcome(feature_normed, initial_weights)"
   ]
  },
  {
   "cell_type": "code",
   "execution_count": 11,
   "metadata": {},
   "outputs": [],
   "source": [
    "def compute_rss(predictions, real):\n",
    "    errors = real - predictions\n",
    "    rss = sum(errors * errors)\n",
    "    return rss"
   ]
  },
  {
   "cell_type": "code",
   "execution_count": 12,
   "metadata": {},
   "outputs": [
    {
     "data": {
      "text/plain": [
       "9217324114222372.0"
      ]
     },
     "execution_count": 12,
     "metadata": {},
     "output_type": "execute_result"
    }
   ],
   "source": [
    "compute_rss(initial_prediction, output)"
   ]
  },
  {
   "cell_type": "code",
   "execution_count": 13,
   "metadata": {},
   "outputs": [],
   "source": [
    "residual = output - initial_prediction\n",
    "\n",
    "ro = [0.] * 3\n",
    "for i in range(len(initial_weights)):\n",
    "    ro[i] = np.sum(feature_normed[:,i] * (residual + initial_weights[i] * feature_normed[:,i]))"
   ]
  },
  {
   "cell_type": "code",
   "execution_count": 14,
   "metadata": {},
   "outputs": [
    {
     "name": "stdout",
     "output_type": "stream",
     "text": [
      "[79400300.014522895, 87939470.823251754, 80966698.66623947]\n"
     ]
    }
   ],
   "source": [
    "print(ro)"
   ]
  },
  {
   "cell_type": "code",
   "execution_count": 15,
   "metadata": {},
   "outputs": [
    {
     "name": "stdout",
     "output_type": "stream",
     "text": [
      "For feature1 l1_penalty=175878941.646504\n",
      "For feature2 l1_penalty=161933397.332479\n"
     ]
    }
   ],
   "source": [
    "print(\"For feature1 l1_penalty=%f\" % (ro[1] * 2))\n",
    "print(\"For feature2 l1_penalty=%f\" % (ro[2] * 2))"
   ]
  },
  {
   "cell_type": "code",
   "execution_count": 16,
   "metadata": {},
   "outputs": [],
   "source": [
    "def lasso_coordinate_descent_step(i, feature_matrix, output, weights, l1_penalty):\n",
    "    prediction = predict_outcome(feature_matrix, weights)\n",
    "    \n",
    "    residual = output - prediction\n",
    "\n",
    "    ro_i = np.sum(feature_matrix[:,i] * (residual + weights[i] * feature_matrix[:,i]))\n",
    "    \n",
    "    if i == 0:\n",
    "        new_weight_i = ro_i\n",
    "    elif ro_i < -l1_penalty / 2.:\n",
    "        new_weight_i = ro_i + l1_penalty/2\n",
    "    elif ro_i > l1_penalty / 2.:\n",
    "        new_weight_i = ro_i - l1_penalty/2\n",
    "    else:\n",
    "        new_weight_i = 0.\n",
    "    \n",
    "    return new_weight_i"
   ]
  },
  {
   "cell_type": "code",
   "execution_count": 17,
   "metadata": {},
   "outputs": [
    {
     "name": "stdout",
     "output_type": "stream",
     "text": [
      "0.425558846691\n"
     ]
    }
   ],
   "source": [
    "print(lasso_coordinate_descent_step(1,\n",
    "                                    np.array([[3./sqrt(13), 1./sqrt(10)], [2./sqrt(13), 3./sqrt(10)]]),\n",
    "                                    np.array([1., 1.]),\n",
    "                                    np.array([1., 4.]),\n",
    "                                    0.1))"
   ]
  },
  {
   "cell_type": "code",
   "execution_count": 18,
   "metadata": {},
   "outputs": [],
   "source": [
    "def lasso_cyclical_coordinate_descent(feature_matrix, output, initial_weights, l1_penalty, tolerance):\n",
    "    weights = initial_weights.copy()\n",
    "\n",
    "    while True:\n",
    "        new_weights = weights.copy()\n",
    "        for i in range(len(weights)):\n",
    "            new_weights[i] = lasso_coordinate_descent_step(i, feature_matrix, output, new_weights, l1_penalty)\n",
    "\n",
    "        chg = np.max(np.abs(new_weights - weights))\n",
    "\n",
    "        if chg < tolerance:\n",
    "            break\n",
    "\n",
    "        weights = new_weights\n",
    "\n",
    "    return weights"
   ]
  },
  {
   "cell_type": "code",
   "execution_count": 19,
   "metadata": {},
   "outputs": [],
   "source": [
    "initial_weights = np.zeros(3)\n",
    "\n",
    "l1_penalty = 1e7\n",
    "\n",
    "tolerance = 1.0"
   ]
  },
  {
   "cell_type": "code",
   "execution_count": 20,
   "metadata": {},
   "outputs": [],
   "source": [
    "simple_weights = lasso_cyclical_coordinate_descent(feature_normed, output, initial_weights, l1_penalty, tolerance)"
   ]
  },
  {
   "cell_type": "code",
   "execution_count": 21,
   "metadata": {},
   "outputs": [
    {
     "data": {
      "text/plain": [
       "1630492484578352.8"
      ]
     },
     "execution_count": 21,
     "metadata": {},
     "output_type": "execute_result"
    }
   ],
   "source": [
    "compute_rss(predict_outcome(feature_normed, simple_weights), output)"
   ]
  },
  {
   "cell_type": "code",
   "execution_count": 22,
   "metadata": {},
   "outputs": [
    {
     "name": "stdout",
     "output_type": "stream",
     "text": [
      "[('intercept', 21624998.819060422), ('sqft_living', 63157246.421593979), ('bedrooms', 0.0)]\n"
     ]
    }
   ],
   "source": [
    "names = ['intercept', 'sqft_living', 'bedrooms']\n",
    "print(list(zip(names, simple_weights)))"
   ]
  },
  {
   "cell_type": "markdown",
   "metadata": {},
   "source": [
    "## Evaluating LASSO fit with more features"
   ]
  },
  {
   "cell_type": "code",
   "execution_count": 23,
   "metadata": {},
   "outputs": [],
   "source": [
    "features = [\n",
    "    'bedrooms',\n",
    "    'bathrooms',\n",
    "    'sqft_living',\n",
    "    'sqft_lot',\n",
    "    'floors',\n",
    "    'waterfront',\n",
    "    'view',\n",
    "    'condition',\n",
    "    'grade',\n",
    "    'sqft_above',\n",
    "    'sqft_basement',\n",
    "    'yr_built',\n",
    "    'yr_renovated'\n",
    "]"
   ]
  },
  {
   "cell_type": "code",
   "execution_count": 24,
   "metadata": {},
   "outputs": [],
   "source": [
    "train = pd.read_csv('kc_house_train_data.csv', dtype=dtype_dict)\n",
    "test  = pd.read_csv('kc_house_test_data.csv' , dtype=dtype_dict)"
   ]
  },
  {
   "cell_type": "code",
   "execution_count": 25,
   "metadata": {},
   "outputs": [],
   "source": [
    "(features_more, output) = get_numpy_data(train, features, 'price')"
   ]
  },
  {
   "cell_type": "code",
   "execution_count": 26,
   "metadata": {},
   "outputs": [],
   "source": [
    "(feature_more_normed, norms) = normalize_features(features_more)"
   ]
  },
  {
   "cell_type": "code",
   "execution_count": 27,
   "metadata": {},
   "outputs": [],
   "source": [
    "initial_weights = np.zeros(len(features) + 1)\n",
    "\n",
    "l1_penalty = 1e7\n",
    "\n",
    "tolerance = 1.0"
   ]
  },
  {
   "cell_type": "code",
   "execution_count": 28,
   "metadata": {},
   "outputs": [],
   "source": [
    "weights1e7 = lasso_cyclical_coordinate_descent(feature_more_normed, output, initial_weights, l1_penalty, tolerance)"
   ]
  },
  {
   "cell_type": "code",
   "execution_count": 29,
   "metadata": {},
   "outputs": [
    {
     "data": {
      "text/plain": [
       "array([ 24429601.08756559,         0.        ,         0.        ,\n",
       "        48389173.96813957,         0.        ,         0.        ,\n",
       "         3317511.21380402,   7329961.8643644 ,         0.        ,\n",
       "               0.        ,         0.        ,         0.        ,\n",
       "               0.        ,         0.        ])"
      ]
     },
     "execution_count": 29,
     "metadata": {},
     "output_type": "execute_result"
    }
   ],
   "source": [
    "weights1e7"
   ]
  },
  {
   "cell_type": "code",
   "execution_count": 30,
   "metadata": {},
   "outputs": [
    {
     "name": "stdout",
     "output_type": "stream",
     "text": [
      "('intercept', 24429601.087565593)\n",
      "('bedrooms', 0.0)\n",
      "('bathrooms', 0.0)\n",
      "('sqft_living', 48389173.968139574)\n",
      "('sqft_lot', 0.0)\n",
      "('floors', 0.0)\n",
      "('waterfront', 3317511.2138040178)\n",
      "('view', 7329961.8643644005)\n",
      "('condition', 0.0)\n",
      "('grade', 0.0)\n",
      "('sqft_above', 0.0)\n",
      "('sqft_basement', 0.0)\n",
      "('yr_built', 0.0)\n",
      "('yr_renovated', 0.0)\n"
     ]
    }
   ],
   "source": [
    "for i in list(zip(['intercept'] + features, weights1e7)):\n",
    "    print(i)"
   ]
  },
  {
   "cell_type": "code",
   "execution_count": 31,
   "metadata": {},
   "outputs": [],
   "source": [
    "l1_penalty = 1e8\n",
    "weights1e8 = lasso_cyclical_coordinate_descent(feature_more_normed, output, initial_weights, l1_penalty, tolerance)"
   ]
  },
  {
   "cell_type": "code",
   "execution_count": 32,
   "metadata": {},
   "outputs": [],
   "source": [
    "l1_penalty = 1e4\n",
    "tolerance = 5e5\n",
    "weights1e4 = lasso_cyclical_coordinate_descent(feature_more_normed, output, initial_weights, l1_penalty, tolerance)"
   ]
  },
  {
   "cell_type": "code",
   "execution_count": 33,
   "metadata": {},
   "outputs": [
    {
     "name": "stdout",
     "output_type": "stream",
     "text": [
      "('intercept', 71114625.714887023)\n",
      "('bedrooms', 0.0)\n",
      "('bathrooms', 0.0)\n",
      "('sqft_living', 0.0)\n",
      "('sqft_lot', 0.0)\n",
      "('floors', 0.0)\n",
      "('waterfront', 0.0)\n",
      "('view', 0.0)\n",
      "('condition', 0.0)\n",
      "('grade', 0.0)\n",
      "('sqft_above', 0.0)\n",
      "('sqft_basement', 0.0)\n",
      "('yr_built', 0.0)\n",
      "('yr_renovated', 0.0)\n"
     ]
    }
   ],
   "source": [
    "for i in list(zip(['intercept'] + features, weights1e8)):\n",
    "    print(i)"
   ]
  },
  {
   "cell_type": "code",
   "execution_count": 34,
   "metadata": {},
   "outputs": [
    {
     "name": "stdout",
     "output_type": "stream",
     "text": [
      "('intercept', 78481482.153042942)\n",
      "('bedrooms', -22092517.827301651)\n",
      "('bathrooms', 12915269.12473079)\n",
      "('sqft_living', 93310202.707815617)\n",
      "('sqft_lot', -2013964.8159875742)\n",
      "('floors', -4272322.9845620245)\n",
      "('waterfront', 6482388.3285456877)\n",
      "('view', 7133738.6578245172)\n",
      "('condition', 4877806.5960802939)\n",
      "('grade', 13985275.16528072)\n",
      "('sqft_above', -15315597.948484594)\n",
      "('sqft_basement', -5048567.0430999519)\n",
      "('yr_built', -84043787.07716085)\n",
      "('yr_renovated', 2822342.4768613358)\n"
     ]
    }
   ],
   "source": [
    "for i in list(zip(['intercept'] + features, weights1e4)):\n",
    "    print(i)"
   ]
  },
  {
   "cell_type": "markdown",
   "metadata": {},
   "source": [
    "## Rescaling learned weights"
   ]
  },
  {
   "cell_type": "code",
   "execution_count": 35,
   "metadata": {},
   "outputs": [],
   "source": [
    "normalized_weights1e7 = weights1e7 / norms\n",
    "normalized_weights1e4 = weights1e4 / norms\n",
    "normalized_weights1e8 = weights1e8 / norms"
   ]
  },
  {
   "cell_type": "code",
   "execution_count": 36,
   "metadata": {},
   "outputs": [
    {
     "name": "stdout",
     "output_type": "stream",
     "text": [
      "161.317454968\n"
     ]
    }
   ],
   "source": [
    "print(normalized_weights1e7[3])"
   ]
  },
  {
   "cell_type": "markdown",
   "metadata": {},
   "source": [
    "## Evaluating each of the learned models on the test data"
   ]
  },
  {
   "cell_type": "code",
   "execution_count": 39,
   "metadata": {},
   "outputs": [
    {
     "name": "stdout",
     "output_type": "stream",
     "text": [
      "2.75962077477e+14\n",
      "2.28643418822e+14\n",
      "5.37166151497e+14\n"
     ]
    }
   ],
   "source": [
    "(features_test, output_tset) = get_numpy_data(test, features, 'price')\n",
    "\n",
    "print(compute_rss(predict_outcome(features_test, normalized_weights1e7), output_tset))\n",
    "print(compute_rss(predict_outcome(features_test, normalized_weights1e4), output_tset))\n",
    "print(compute_rss(predict_outcome(features_test, normalized_weights1e8), output_tset))"
   ]
  },
  {
   "cell_type": "code",
   "execution_count": null,
   "metadata": {},
   "outputs": [],
   "source": []
  }
 ],
 "metadata": {
  "kernelspec": {
   "display_name": "Python 3",
   "language": "python",
   "name": "python3"
  },
  "language_info": {
   "codemirror_mode": {
    "name": "ipython",
    "version": 3
   },
   "file_extension": ".py",
   "mimetype": "text/x-python",
   "name": "python",
   "nbconvert_exporter": "python",
   "pygments_lexer": "ipython3",
   "version": "3.6.4"
  }
 },
 "nbformat": 4,
 "nbformat_minor": 2
}
