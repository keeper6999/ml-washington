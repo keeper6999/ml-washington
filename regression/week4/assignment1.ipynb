{
 "cells": [
  {
   "cell_type": "code",
   "execution_count": 12,
   "metadata": {},
   "outputs": [],
   "source": [
    "import pandas as pd\n",
    "\n",
    "import numpy as np\n",
    "\n",
    "from sklearn import linear_model"
   ]
  },
  {
   "cell_type": "code",
   "execution_count": 2,
   "metadata": {},
   "outputs": [],
   "source": [
    "def polynomial_dataframe(feature, degree):\n",
    "    poly_dataframe = pd.DataFrame()\n",
    "    poly_dataframe['power_1'] = feature\n",
    "    if degree > 1:\n",
    "        for power in range(2, degree+1):\n",
    "            name = 'power_' + str(power)\n",
    "            poly_dataframe[name] = feature ** power\n",
    "    return poly_dataframe"
   ]
  },
  {
   "cell_type": "code",
   "execution_count": 22,
   "metadata": {},
   "outputs": [],
   "source": [
    "def print_coefficients(model):    \n",
    "    # Get the degree of the polynomial\n",
    "    deg = len(model.coef_)-1\n",
    "\n",
    "    coef = list(model.coef_)\n",
    "    coef.reverse()\n",
    "    # Numpy has a nifty function to print out polynomials in a pretty way\n",
    "    # (We'll use it, but it needs the parameters in the reverse order)\n",
    "    print('Learned polynomial for degree ' + str(deg) + ':')\n",
    "    print(np.poly1d(coef))"
   ]
  },
  {
   "cell_type": "code",
   "execution_count": 3,
   "metadata": {},
   "outputs": [],
   "source": [
    "dtype_dict = {\n",
    "    'bathrooms': float,\n",
    "    'bedrooms': float,\n",
    "    'condition': int,\n",
    "    'date': str,\n",
    "    'floors': float,\n",
    "    'grade': int,\n",
    "    'id': str,\n",
    "    'lat': float,\n",
    "    'long': float,\n",
    "    'price': float,\n",
    "    'sqft_above': int,\n",
    "    'sqft_basement': int,\n",
    "    'sqft_living': float,\n",
    "    'sqft_living15': float,\n",
    "    'sqft_lot': int,\n",
    "    'sqft_lot15': float,\n",
    "    'view': int,\n",
    "    'waterfront': int,\n",
    "    'yr_built': int,\n",
    "    'yr_renovated': int,\n",
    "    'zipcode': str\n",
    "}"
   ]
  },
  {
   "cell_type": "code",
   "execution_count": 25,
   "metadata": {},
   "outputs": [],
   "source": [
    "kc_house_data = pd.read_csv('kc_house_data.csv', dtype = dtype_dict)\n",
    "\n",
    "wk3_kc_house_train_data = pd.read_csv('wk3_kc_house_train_data.csv', dtype = dtype_dict)\n",
    "\n",
    "wk3_kc_house_test_data = pd.read_csv('wk3_kc_house_test_data.csv', dtype = dtype_dict)\n",
    "\n",
    "wk3_kc_house_valid_data = pd.read_csv('wk3_kc_house_valid_data.csv', dtype = dtype_dict)\n",
    "\n",
    "wk3_kc_house_set_1_data = pd.read_csv('wk3_kc_house_set_1_data.csv', dtype = dtype_dict)\n",
    "\n",
    "wk3_kc_house_set_2_data = pd.read_csv('wk3_kc_house_set_2_data.csv', dtype = dtype_dict)\n",
    "\n",
    "wk3_kc_house_set_3_data = pd.read_csv('wk3_kc_house_set_3_data.csv', dtype = dtype_dict)\n",
    "\n",
    "wk3_kc_house_set_4_data = pd.read_csv('wk3_kc_house_set_4_data.csv', dtype = dtype_dict)"
   ]
  },
  {
   "cell_type": "code",
   "execution_count": 6,
   "metadata": {},
   "outputs": [],
   "source": [
    "sales = kc_house_data.sort_values(['sqft_living','price'])"
   ]
  },
  {
   "cell_type": "code",
   "execution_count": 7,
   "metadata": {},
   "outputs": [],
   "source": [
    "l2_small_penalty = 1.5e-5"
   ]
  },
  {
   "cell_type": "code",
   "execution_count": 13,
   "metadata": {},
   "outputs": [
    {
     "data": {
      "text/plain": [
       "Ridge(alpha=1.5e-05, copy_X=True, fit_intercept=True, max_iter=None,\n",
       "   normalize=True, random_state=None, solver='auto', tol=0.001)"
      ]
     },
     "execution_count": 13,
     "metadata": {},
     "output_type": "execute_result"
    }
   ],
   "source": [
    "poly15_data = polynomial_dataframe(sales['sqft_living'], 15)\n",
    "\n",
    "model = linear_model.Ridge(alpha=l2_small_penalty, normalize=True)\n",
    "\n",
    "model.fit(poly15_data, sales['price'])"
   ]
  },
  {
   "cell_type": "code",
   "execution_count": 19,
   "metadata": {},
   "outputs": [
    {
     "data": {
      "text/plain": [
       "array([  1.24873306e+02,  -4.77376011e-02,   3.01446238e-05,\n",
       "        -2.44419942e-09,  -1.94153675e-13,   8.54085686e-18,\n",
       "         1.51142121e-21,   8.27979094e-26,   6.52603100e-31,\n",
       "        -3.27895017e-34,  -3.87962315e-38,  -2.72437650e-42,\n",
       "        -1.07790800e-46,   3.78242694e-51,   1.39790296e-54])"
      ]
     },
     "execution_count": 19,
     "metadata": {},
     "output_type": "execute_result"
    }
   ],
   "source": [
    "model.coef_"
   ]
  },
  {
   "cell_type": "code",
   "execution_count": 84,
   "metadata": {},
   "outputs": [],
   "source": [
    "def fit_polys(feature, target, l2_penalty):\n",
    "    model = linear_model.Ridge(alpha=l2_penalty, normalize=True)\n",
    "    model.fit(feature, target)\n",
    "    return model"
   ]
  },
  {
   "cell_type": "code",
   "execution_count": 85,
   "metadata": {},
   "outputs": [],
   "source": [
    "def compute_rss(predictions, real):\n",
    "    errors = real - predictions\n",
    "    rss = sum(errors * errors)\n",
    "    return rss"
   ]
  },
  {
   "cell_type": "code",
   "execution_count": 86,
   "metadata": {},
   "outputs": [
    {
     "name": "stdout",
     "output_type": "stream",
     "text": [
      "544.669372537\n",
      "859.362607229\n",
      "-755.395975432\n",
      "1119.44566936\n"
     ]
    }
   ],
   "source": [
    "for data in [wk3_kc_house_set_1_data, wk3_kc_house_set_2_data, wk3_kc_house_set_3_data, wk3_kc_house_set_4_data]:\n",
    "    feature = polynomial_dataframe(data['sqft_living'], 15)\n",
    "    target = data['price']\n",
    "    m = fit_polys(feature, target, 1e-9)\n",
    "    print(m.coef_[0])"
   ]
  },
  {
   "cell_type": "code",
   "execution_count": 87,
   "metadata": {},
   "outputs": [
    {
     "name": "stdout",
     "output_type": "stream",
     "text": [
      "2.32806802958\n",
      "2.09756902778\n",
      "2.28906258119\n",
      "2.08596194092\n"
     ]
    }
   ],
   "source": [
    "for data in [wk3_kc_house_set_1_data, wk3_kc_house_set_2_data, wk3_kc_house_set_3_data, wk3_kc_house_set_4_data]:\n",
    "    feature = polynomial_dataframe(data['sqft_living'], 15)\n",
    "    target = data['price']\n",
    "    m = fit_polys(feature, target, 1.23e2)\n",
    "    print(m.coef_[0])"
   ]
  },
  {
   "cell_type": "code",
   "execution_count": 88,
   "metadata": {},
   "outputs": [],
   "source": [
    "wk3_kc_train_valid_shuffled = pd.read_csv('wk3_kc_house_train_valid_shuffled.csv', dtype=dtype_dict)\n",
    "\n",
    "wk3_kc_test = pd.read_csv('wk3_kc_house_test_data.csv', dtype=dtype_dict)"
   ]
  },
  {
   "cell_type": "code",
   "execution_count": 89,
   "metadata": {},
   "outputs": [
    {
     "name": "stdout",
     "output_type": "stream",
     "text": [
      "0 (0, 1938)\n",
      "1 (1939, 3878)\n",
      "2 (3879, 5817)\n",
      "3 (5818, 7757)\n",
      "4 (7758, 9697)\n",
      "5 (9698, 11636)\n",
      "6 (11637, 13576)\n",
      "7 (13577, 15515)\n",
      "8 (15516, 17455)\n",
      "9 (17456, 19395)\n"
     ]
    }
   ],
   "source": [
    "n = len(train_valid_shuffled)\n",
    "k = 10\n",
    "\n",
    "for i in range(k):\n",
    "    start = (n * i) // k\n",
    "    end = (n * (i+1)) // k - 1\n",
    "    print(i, (start, end))"
   ]
  },
  {
   "cell_type": "code",
   "execution_count": 92,
   "metadata": {},
   "outputs": [],
   "source": [
    "'''\n",
    "Compute starting and ending indices of segment i and call 'start' and 'end'\n",
    "\n",
    "Form validation set by taking a slice (start:end+1) from the data.\n",
    "\n",
    "Form training set by appending slice (end+1:n) to the end of slice (0:start).\n",
    "\n",
    "Train a linear model using training set just formed, with a given l2_penalty\n",
    "\n",
    "Compute validation error (RSS) using validation set just formed\n",
    "\n",
    "'''\n",
    "\n",
    "def k_fold_cross_validation(k, l2_penalty, data):\n",
    "    rsses = []\n",
    "\n",
    "    for i in range(k):\n",
    "        start = (n * i) // k\n",
    "        end = (n * (i + 1)) // k - 1\n",
    "\n",
    "        validation = data[start: end+1]\n",
    "        training = data[0: start].append(data[end+1: n])\n",
    "\n",
    "        model = fit_polys(polynomial_dataframe(training['sqft_living'], 15), training['price'], l2_penalty)\n",
    "\n",
    "        rsses.append(compute_rss(model.predict(polynomial_dataframe(validation['sqft_living'], 15)), validation['price']))\n",
    "    \n",
    "    return np.mean(rsses)"
   ]
  },
  {
   "cell_type": "code",
   "execution_count": 95,
   "metadata": {},
   "outputs": [
    {
     "name": "stdout",
     "output_type": "stream",
     "text": [
      "1000.000000\t264977361036975.906250\n",
      "3162.277660\t265692935858318.250000\n",
      "10000.000000\t265924368957215.687500\n",
      "31622.776602\t265998081509342.812500\n",
      "100000.000000\t266021444553980.500000\n",
      "316227.766017\t266028837918724.437500\n",
      "1000000.000000\t266031176438468.156250\n",
      "3162277.660168\t266031915996607.250000\n",
      "10000000.000000\t266032149870752.593750\n",
      "31622776.601684\t266032223828783.750000\n",
      "100000000.000000\t266032247216419.937500\n",
      "316227766.016838\t266032254612245.000000\n",
      "1000000000.000000\t266032256951011.156250\n"
     ]
    }
   ],
   "source": [
    "for l2_penalty in np.logspace(3, 9, num=13):\n",
    "    print('%f\\t%f' % (l2_penalty, k_fold_cross_validation(10, l2_penalty, wk3_kc_train_valid_shuffled)))"
   ]
  },
  {
   "cell_type": "code",
   "execution_count": 99,
   "metadata": {},
   "outputs": [
    {
     "name": "stdout",
     "output_type": "stream",
     "text": [
      "2.84e+14\n"
     ]
    }
   ],
   "source": [
    "model = fit_polys(polynomial_dataframe(wk3_kc_house_train_data['sqft_living'], 15), wk3_kc_house_train_data['price'], 1000.0)\n",
    "\n",
    "print('%.2e' % compute_rss(model.predict(polynomial_dataframe(wk3_kc_test['sqft_living'], 15)), wk3_kc_test['price']))"
   ]
  },
  {
   "cell_type": "code",
   "execution_count": null,
   "metadata": {},
   "outputs": [],
   "source": []
  }
 ],
 "metadata": {
  "kernelspec": {
   "display_name": "Python 3",
   "language": "python",
   "name": "python3"
  },
  "language_info": {
   "codemirror_mode": {
    "name": "ipython",
    "version": 3
   },
   "file_extension": ".py",
   "mimetype": "text/x-python",
   "name": "python",
   "nbconvert_exporter": "python",
   "pygments_lexer": "ipython3",
   "version": "3.6.4"
  }
 },
 "nbformat": 4,
 "nbformat_minor": 2
}
