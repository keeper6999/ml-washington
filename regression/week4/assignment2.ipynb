{
 "cells": [
  {
   "cell_type": "code",
   "execution_count": 1,
   "metadata": {},
   "outputs": [],
   "source": [
    "import pandas as pd\n",
    "\n",
    "import numpy as np\n",
    "\n",
    "from sklearn import linear_model"
   ]
  },
  {
   "cell_type": "code",
   "execution_count": 2,
   "metadata": {},
   "outputs": [],
   "source": [
    "dtype_dict = {\n",
    "    'bathrooms': float,\n",
    "    'bedrooms': float,\n",
    "    'condition': int,\n",
    "    'date': str,\n",
    "    'floors': float,\n",
    "    'grade': int,\n",
    "    'id': str,\n",
    "    'lat': float,\n",
    "    'long': float,\n",
    "    'price': float,\n",
    "    'sqft_above': int,\n",
    "    'sqft_basement': int,\n",
    "    'sqft_living': float,\n",
    "    'sqft_living15': float,\n",
    "    'sqft_lot': int,\n",
    "    'sqft_lot15': float,\n",
    "    'view': int,\n",
    "    'waterfront': int,\n",
    "    'yr_built': int,\n",
    "    'yr_renovated': int,\n",
    "    'zipcode': str\n",
    "}"
   ]
  },
  {
   "cell_type": "code",
   "execution_count": 3,
   "metadata": {},
   "outputs": [],
   "source": [
    "def get_numpy_data(data, features, output):\n",
    "    data['constant'] = 1 \n",
    "    return (np.array(data[['constant'] + features]), np.array(data[output]))"
   ]
  },
  {
   "cell_type": "code",
   "execution_count": 4,
   "metadata": {},
   "outputs": [],
   "source": [
    "def predict_outcome(features, weights):\n",
    "    '''\n",
    "    features   N * f\n",
    "    weights    f * 1\n",
    "    '''\n",
    "    return np.dot(features, weights)"
   ]
  },
  {
   "cell_type": "code",
   "execution_count": 20,
   "metadata": {},
   "outputs": [],
   "source": [
    "def compute_rss(predictions, real):\n",
    "    errors = real - predictions\n",
    "    rss = sum(errors * errors)\n",
    "    return rss"
   ]
  },
  {
   "cell_type": "code",
   "execution_count": 5,
   "metadata": {},
   "outputs": [],
   "source": [
    "kc_house_test_data = pd.read_csv('kc_house_test_data.csv', dtype = dtype_dict)\n",
    "\n",
    "kc_house_train_data = pd.read_csv('kc_house_train_data.csv', dtype = dtype_dict)"
   ]
  },
  {
   "cell_type": "code",
   "execution_count": 6,
   "metadata": {},
   "outputs": [],
   "source": [
    "def feature_derivative_ridge(errors, feature, weight, l2_penalty, feature_is_constant):\n",
    "    if feature_is_constant:\n",
    "        return 2 * np.dot(errors, feature)\n",
    "    else:\n",
    "        return 2 * np.dot(errors, feature) + 2 * l2_penalty * weight"
   ]
  },
  {
   "cell_type": "code",
   "execution_count": 7,
   "metadata": {},
   "outputs": [
    {
     "name": "stdout",
     "output_type": "stream",
     "text": [
      "-4.55328923355e+13\n",
      "-4.55328923355e+13\n",
      "-18029479492.0\n",
      "-18029479492.0\n"
     ]
    }
   ],
   "source": [
    "sales = kc_house_train_data.sort_values(['sqft_living', 'price'])\n",
    "\n",
    "(example_features, example_output) = get_numpy_data(sales, ['sqft_living'], 'price')\n",
    "my_weights = np.array([1., 10.])\n",
    "test_predictions = predict_outcome(example_features, my_weights)\n",
    "errors = test_predictions - example_output # prediction errors\n",
    "\n",
    "# next two lines should print the same values\n",
    "print(feature_derivative_ridge(errors, example_features[:,1], my_weights[1], 1, False))\n",
    "print(np.sum(errors * example_features[:,1]) * 2 + 20.)\n",
    "\n",
    "# next two lines should print the same values\n",
    "print(feature_derivative_ridge(errors, example_features[:,0], my_weights[0], 1, True))\n",
    "print(np.sum(errors) * 2.)"
   ]
  },
  {
   "cell_type": "code",
   "execution_count": 8,
   "metadata": {},
   "outputs": [],
   "source": [
    "def ridge_regression_gradient_descent(feature_matrix, output, initial_weights, step_size, l2_penalty, max_iterations=100):\n",
    "    weights = np.array(initial_weights)\n",
    "\n",
    "    for _ in range(max_iterations):\n",
    "        errors = predict_outcome(feature_matrix, weights) - output\n",
    "        for i in range(len(weights)):\n",
    "            weights[i] = weights[i] - step_size * feature_derivative_ridge(errors, feature_matrix[:,i], weights[i], l2_penalty, i == 0)\n",
    "\n",
    "    return weights"
   ]
  },
  {
   "cell_type": "code",
   "execution_count": 9,
   "metadata": {},
   "outputs": [],
   "source": [
    "simple_features = ['sqft_living']\n",
    "my_output = 'price'\n",
    "\n",
    "(simple_feature_matrix, output) = get_numpy_data(kc_house_train_data, simple_features, my_output)\n",
    "(simple_test_feature_matrix, test_output) = get_numpy_data(kc_house_test_data, simple_features, my_output)"
   ]
  },
  {
   "cell_type": "code",
   "execution_count": 10,
   "metadata": {},
   "outputs": [],
   "source": [
    "step_size = 1e-12\n",
    "max_iterations = 1000\n",
    "initial_weights = np.zeros(len(simple_feature_matrix[0]))"
   ]
  },
  {
   "cell_type": "code",
   "execution_count": 11,
   "metadata": {},
   "outputs": [],
   "source": [
    "simple_weights_0_penalty = ridge_regression_gradient_descent(simple_feature_matrix, output, initial_weights, step_size, 0.0, max_iterations)"
   ]
  },
  {
   "cell_type": "code",
   "execution_count": 12,
   "metadata": {},
   "outputs": [],
   "source": [
    "simple_weights_high_penalty = ridge_regression_gradient_descent(simple_feature_matrix, output, initial_weights, step_size, 1e11, max_iterations)"
   ]
  },
  {
   "cell_type": "code",
   "execution_count": 13,
   "metadata": {},
   "outputs": [
    {
     "data": {
      "text/plain": [
       "[<matplotlib.lines.Line2D at 0x116d6f080>,\n",
       " <matplotlib.lines.Line2D at 0x116d6f320>,\n",
       " <matplotlib.lines.Line2D at 0x116d6fa90>,\n",
       " <matplotlib.lines.Line2D at 0x116d6fc18>,\n",
       " <matplotlib.lines.Line2D at 0x116d7e390>,\n",
       " <matplotlib.lines.Line2D at 0x116d7e518>]"
      ]
     },
     "execution_count": 13,
     "metadata": {},
     "output_type": "execute_result"
    },
    {
     "data": {
      "image/png": "[encoded data removed]",
      "text/plain": [
       "<matplotlib.figure.Figure at 0x1162e5dd8>"
      ]
     },
     "metadata": {},
     "output_type": "display_data"
    }
   ],
   "source": [
    "import matplotlib.pyplot as plt\n",
    "%matplotlib inline\n",
    "plt.plot(simple_feature_matrix, output, 'k.',\n",
    "         simple_feature_matrix, predict_outcome(simple_feature_matrix, simple_weights_0_penalty),'b-',\n",
    "         simple_feature_matrix, predict_outcome(simple_feature_matrix, simple_weights_high_penalty),'r-')"
   ]
  },
  {
   "cell_type": "code",
   "execution_count": 14,
   "metadata": {},
   "outputs": [
    {
     "name": "stdout",
     "output_type": "stream",
     "text": [
      "[ -1.63113515e-01   2.63024369e+02]\n",
      "[   9.76730382  124.57217567]\n"
     ]
    }
   ],
   "source": [
    "print(simple_weights_0_penalty)\n",
    "print(simple_weights_high_penalty)"
   ]
  },
  {
   "cell_type": "code",
   "execution_count": 17,
   "metadata": {},
   "outputs": [
    {
     "name": "stdout",
     "output_type": "stream",
     "text": [
      "1.78e+15\n"
     ]
    }
   ],
   "source": [
    "print('%.2e' % compute_rss(predict_outcome(simple_test_feature_matrix, np.array(initial_weights)), test_output))"
   ]
  },
  {
   "cell_type": "code",
   "execution_count": 30,
   "metadata": {},
   "outputs": [],
   "source": [
    "model_features = ['sqft_living', 'sqft_living15']\n",
    "my_output = 'price'\n",
    "\n",
    "(multiple_feature_matrix, output) = get_numpy_data(kc_house_train_data, model_features, my_output)\n",
    "(multiple_test_feature_matrix, test_output) = get_numpy_data(kc_house_test_data, model_features, my_output)\n",
    "\n",
    "step_size = 1e-12\n",
    "max_iterations = 1000\n",
    "initial_weights = np.zeros(len(multiple_feature_matrix[0]))"
   ]
  },
  {
   "cell_type": "code",
   "execution_count": 31,
   "metadata": {},
   "outputs": [],
   "source": [
    "multiple_weights_0_penalty = ridge_regression_gradient_descent(multiple_feature_matrix, output, initial_weights, step_size, 0.0, max_iterations)\n",
    "multiple_weights_high_penalty = ridge_regression_gradient_descent(multiple_feature_matrix, output, initial_weights, step_size, 1e11, max_iterations)"
   ]
  },
  {
   "cell_type": "code",
   "execution_count": 32,
   "metadata": {},
   "outputs": [
    {
     "name": "stdout",
     "output_type": "stream",
     "text": [
      "[  -0.35743483  243.05416982   22.41481497]\n",
      "[  6.74296579  91.48927365  78.43658766]\n"
     ]
    }
   ],
   "source": [
    "print(multiple_weights_0_penalty)\n",
    "print(multiple_weights_high_penalty)"
   ]
  },
  {
   "cell_type": "code",
   "execution_count": 33,
   "metadata": {},
   "outputs": [
    {
     "name": "stdout",
     "output_type": "stream",
     "text": [
      "1.78e+15\n"
     ]
    }
   ],
   "source": [
    "print('%.2e' % compute_rss(predict_outcome(multiple_test_feature_matrix, np.array(initial_weights)), test_output))"
   ]
  },
  {
   "cell_type": "code",
   "execution_count": 36,
   "metadata": {},
   "outputs": [
    {
     "data": {
      "text/plain": [
       "77465.476058235334"
      ]
     },
     "execution_count": 36,
     "metadata": {},
     "output_type": "execute_result"
    }
   ],
   "source": [
    "predict_outcome(multiple_test_feature_matrix[0], multiple_weights_0_penalty) - test_output[0]"
   ]
  },
  {
   "cell_type": "code",
   "execution_count": 37,
   "metadata": {},
   "outputs": [
    {
     "data": {
      "text/plain": [
       "-39546.469678059453"
      ]
     },
     "execution_count": 37,
     "metadata": {},
     "output_type": "execute_result"
    }
   ],
   "source": [
    "predict_outcome(multiple_test_feature_matrix[0], multiple_weights_high_penalty) - test_output[0]"
   ]
  },
  {
   "cell_type": "code",
   "execution_count": null,
   "metadata": {},
   "outputs": [],
   "source": []
  }
 ],
 "metadata": {
  "kernelspec": {
   "display_name": "Python 3",
   "language": "python",
   "name": "python3"
  },
  "language_info": {
   "codemirror_mode": {
    "name": "ipython",
    "version": 3
   },
   "file_extension": ".py",
   "mimetype": "text/x-python",
   "name": "python",
   "nbconvert_exporter": "python",
   "pygments_lexer": "ipython3",
   "version": "3.6.4"
  }
 },
 "nbformat": 4,
 "nbformat_minor": 2
}
