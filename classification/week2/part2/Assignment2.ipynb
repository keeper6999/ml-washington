{
 "cells": [
  {
   "cell_type": "code",
   "execution_count": 1,
   "metadata": {},
   "outputs": [],
   "source": [
    "import pandas as pd\n",
    "import numpy as np"
   ]
  },
  {
   "cell_type": "code",
   "execution_count": 2,
   "metadata": {},
   "outputs": [],
   "source": [
    "products = pd.read_csv('amazon_baby_subset.csv')"
   ]
  },
  {
   "cell_type": "code",
   "execution_count": 3,
   "metadata": {},
   "outputs": [
    {
     "data": {
      "text/html": [
       "<div>\n",
       "<style scoped>\n",
       "    .dataframe tbody tr th:only-of-type {\n",
       "        vertical-align: middle;\n",
       "    }\n",
       "\n",
       "    .dataframe tbody tr th {\n",
       "        vertical-align: top;\n",
       "    }\n",
       "\n",
       "    .dataframe thead th {\n",
       "        text-align: right;\n",
       "    }\n",
       "</style>\n",
       "<table border=\"1\" class=\"dataframe\">\n",
       "  <thead>\n",
       "    <tr style=\"text-align: right;\">\n",
       "      <th></th>\n",
       "      <th>name</th>\n",
       "      <th>review</th>\n",
       "      <th>rating</th>\n",
       "      <th>sentiment</th>\n",
       "    </tr>\n",
       "  </thead>\n",
       "  <tbody>\n",
       "    <tr>\n",
       "      <th>0</th>\n",
       "      <td>Stop Pacifier Sucking without tears with Thumb...</td>\n",
       "      <td>All of my kids have cried non-stop when I trie...</td>\n",
       "      <td>5</td>\n",
       "      <td>1</td>\n",
       "    </tr>\n",
       "    <tr>\n",
       "      <th>1</th>\n",
       "      <td>Nature's Lullabies Second Year Sticker Calendar</td>\n",
       "      <td>We wanted to get something to keep track of ou...</td>\n",
       "      <td>5</td>\n",
       "      <td>1</td>\n",
       "    </tr>\n",
       "    <tr>\n",
       "      <th>2</th>\n",
       "      <td>Nature's Lullabies Second Year Sticker Calendar</td>\n",
       "      <td>My daughter had her 1st baby over a year ago. ...</td>\n",
       "      <td>5</td>\n",
       "      <td>1</td>\n",
       "    </tr>\n",
       "    <tr>\n",
       "      <th>3</th>\n",
       "      <td>Lamaze Peekaboo, I Love You</td>\n",
       "      <td>One of baby's first and favorite books, and it...</td>\n",
       "      <td>4</td>\n",
       "      <td>1</td>\n",
       "    </tr>\n",
       "    <tr>\n",
       "      <th>4</th>\n",
       "      <td>SoftPlay Peek-A-Boo Where's Elmo A Children's ...</td>\n",
       "      <td>Very cute interactive book! My son loves this ...</td>\n",
       "      <td>5</td>\n",
       "      <td>1</td>\n",
       "    </tr>\n",
       "  </tbody>\n",
       "</table>\n",
       "</div>"
      ],
      "text/plain": [
       "                                                name  \\\n",
       "0  Stop Pacifier Sucking without tears with Thumb...   \n",
       "1    Nature's Lullabies Second Year Sticker Calendar   \n",
       "2    Nature's Lullabies Second Year Sticker Calendar   \n",
       "3                        Lamaze Peekaboo, I Love You   \n",
       "4  SoftPlay Peek-A-Boo Where's Elmo A Children's ...   \n",
       "\n",
       "                                              review  rating  sentiment  \n",
       "0  All of my kids have cried non-stop when I trie...       5          1  \n",
       "1  We wanted to get something to keep track of ou...       5          1  \n",
       "2  My daughter had her 1st baby over a year ago. ...       5          1  \n",
       "3  One of baby's first and favorite books, and it...       4          1  \n",
       "4  Very cute interactive book! My son loves this ...       5          1  "
      ]
     },
     "execution_count": 3,
     "metadata": {},
     "output_type": "execute_result"
    }
   ],
   "source": [
    "products.head()"
   ]
  },
  {
   "cell_type": "markdown",
   "metadata": {},
   "source": [
    "**Fill /na values in the review column with empty strings**"
   ]
  },
  {
   "cell_type": "code",
   "execution_count": 4,
   "metadata": {},
   "outputs": [],
   "source": [
    "products = products.fillna({'review': ''})"
   ]
  },
  {
   "cell_type": "code",
   "execution_count": 5,
   "metadata": {},
   "outputs": [],
   "source": [
    "import string\n",
    "\n",
    "table = str.maketrans({c : '' for c in string.punctuation})\n",
    "\n",
    "def remove_punctuation(text):\n",
    "    return text.translate(table)"
   ]
  },
  {
   "cell_type": "code",
   "execution_count": 6,
   "metadata": {},
   "outputs": [],
   "source": [
    "products['review_clean'] = products['review'].apply(remove_punctuation)"
   ]
  },
  {
   "cell_type": "code",
   "execution_count": 7,
   "metadata": {},
   "outputs": [],
   "source": [
    "import json\n",
    "\n",
    "with open('important_words.json') as fp:\n",
    "    important_words = json.load(fp)"
   ]
  },
  {
   "cell_type": "code",
   "execution_count": 8,
   "metadata": {},
   "outputs": [],
   "source": [
    "for word in important_words:\n",
    "    products[word] = products['review_clean'].apply(lambda s : s.split().count(word))"
   ]
  },
  {
   "cell_type": "markdown",
   "metadata": {},
   "source": [
    "### Train-Validation split"
   ]
  },
  {
   "cell_type": "code",
   "execution_count": 9,
   "metadata": {},
   "outputs": [],
   "source": [
    "with open('module-4-assignment-train-idx.json') as fp:\n",
    "    train_indices = json.load(fp)\n",
    "\n",
    "train_data = products.iloc[train_indices]"
   ]
  },
  {
   "cell_type": "code",
   "execution_count": 10,
   "metadata": {},
   "outputs": [],
   "source": [
    "with open('module-4-assignment-validation-idx.json') as fp:\n",
    "    validation_indices = json.load(fp)\n",
    "\n",
    "validation_data = products.iloc[validation_indices]"
   ]
  },
  {
   "cell_type": "markdown",
   "metadata": {},
   "source": [
    "### Convert data frame to multi-dimensional array"
   ]
  },
  {
   "cell_type": "code",
   "execution_count": 11,
   "metadata": {},
   "outputs": [],
   "source": [
    "def get_numpy_data(dataframe, features, label):\n",
    "    dataframe['constant'] = 1\n",
    "    features = ['constant'] + features\n",
    "    return (dataframe[features].as_matrix(), dataframe[label].as_matrix())"
   ]
  },
  {
   "cell_type": "code",
   "execution_count": 12,
   "metadata": {},
   "outputs": [
    {
     "name": "stderr",
     "output_type": "stream",
     "text": [
      "/usr/local/lib/python3.6/site-packages/ipykernel_launcher.py:2: SettingWithCopyWarning: \n",
      "A value is trying to be set on a copy of a slice from a DataFrame.\n",
      "Try using .loc[row_indexer,col_indexer] = value instead\n",
      "\n",
      "See the caveats in the documentation: http://pandas.pydata.org/pandas-docs/stable/indexing.html#indexing-view-versus-copy\n",
      "  \n"
     ]
    }
   ],
   "source": [
    "feature_matrix_train, sentiment_train = get_numpy_data(train_data, important_words, 'sentiment')\n",
    "\n",
    "feature_matrix_valid, sentiment_valid = get_numpy_data(validation_data, important_words, 'sentiment') "
   ]
  },
  {
   "cell_type": "code",
   "execution_count": 13,
   "metadata": {},
   "outputs": [],
   "source": [
    "def predict_probability(feature_matrix, coefficients):\n",
    "    score = np.dot(feature_matrix, coefficients)\n",
    "    \n",
    "    predictions = 1 / (1. + np.exp(-score))\n",
    "    \n",
    "    return predictions"
   ]
  },
  {
   "cell_type": "markdown",
   "metadata": {},
   "source": [
    "### Adding L2 penalty to the derivative"
   ]
  },
  {
   "cell_type": "code",
   "execution_count": 14,
   "metadata": {},
   "outputs": [],
   "source": [
    "def feature_derivative_with_L2(errors, features, coefficient, l2_penalty, feature_is_constant):\n",
    "    derivative = np.dot(errors, features)\n",
    "    if not feature_is_constant:\n",
    "        derivative -= 2 * l2_penalty * coefficient\n",
    "    return derivative"
   ]
  },
  {
   "cell_type": "code",
   "execution_count": 15,
   "metadata": {},
   "outputs": [],
   "source": [
    "def compute_log_likelihood_with_L2(feature_matrix, sentiment, coefficients, l2_penalty):\n",
    "    indicator = (sentiment == 1)\n",
    "    scores = np.dot(feature_matrix, coefficients)\n",
    "    lp = np.sum((indicator-1) * scores - np.log(1. + np.exp(-scores))) \\\n",
    "       - l2_penalty * np.sum(coefficients[1:]**2)\n",
    "    return lp"
   ]
  },
  {
   "cell_type": "markdown",
   "metadata": {},
   "source": [
    "### Taking gradient steps"
   ]
  },
  {
   "cell_type": "code",
   "execution_count": 16,
   "metadata": {},
   "outputs": [],
   "source": [
    "from math import sqrt\n",
    "\n",
    "def logistic_regression(features,\n",
    "                        label,\n",
    "                        coefficients,\n",
    "                        step_size,\n",
    "                        l2_penalty,\n",
    "                        max_iter):\n",
    "#     print(features.shape)\n",
    "#     print(coefficients.shape)\n",
    "\n",
    "    for i in range(max_iter):\n",
    "        predictions = predict_probability(features, coefficients)\n",
    "\n",
    "        indicator = (label == +1)\n",
    "        \n",
    "        errors = indicator - predictions\n",
    "\n",
    "        for j in range(len(coefficients)):\n",
    "            derivative = feature_derivative_with_L2(errors,\n",
    "                                                    features[:,j],\n",
    "                                                    coefficients[j],\n",
    "                                                    l2_penalty,\n",
    "                                                    j == 0)\n",
    "            coefficients[j] = coefficients[j] + (step_size * derivative)\n",
    "        \n",
    "\n",
    "        # Checking whether log likelihood is increasing\n",
    "#         if i <= 15 or (i <= 100 and i % 10 == 0) or (i <= 1000 and i % 100 == 0) or (i <= 10000 and i % 1000 == 0) or i % 10000 == 0:\n",
    "#             lp = compute_log_likelihood_with_L2(features, label, coefficients, l2_penalty)\n",
    "#             print('iteration %*d: log likelihood of observed labels = %.8f' %\n",
    "#                   (int(np.ceil(np.log10(max_iter))), i, lp))\n",
    "\n",
    "    return coefficients"
   ]
  },
  {
   "cell_type": "code",
   "execution_count": 17,
   "metadata": {},
   "outputs": [],
   "source": [
    "initial_coefficients = np.zeros(194)"
   ]
  },
  {
   "cell_type": "code",
   "execution_count": 18,
   "metadata": {},
   "outputs": [],
   "source": [
    "coefficients_0_penalty = logistic_regression(feature_matrix_train,\n",
    "                                             sentiment_train,\n",
    "                                             np.zeros(194),\n",
    "                                             5e-6,\n",
    "                                             0,\n",
    "                                             501)\n",
    "\n",
    "coefficients_4_penalty = logistic_regression(feature_matrix_train,\n",
    "                                             sentiment_train,\n",
    "                                             np.zeros(194),\n",
    "                                             5e-6,\n",
    "                                             4,\n",
    "                                             501)\n",
    "\n",
    "coefficients_10_penalty = logistic_regression(feature_matrix_train,\n",
    "                                              sentiment_train,\n",
    "                                              np.zeros(194),\n",
    "                                              5e-6,\n",
    "                                              10,\n",
    "                                              501)\n",
    "\n",
    "coefficients_1e2_penalty = logistic_regression(feature_matrix_train,\n",
    "                                               sentiment_train,\n",
    "                                               np.zeros(194),\n",
    "                                               5e-6,\n",
    "                                               1e2,\n",
    "                                               501)\n",
    "\n",
    "coefficients_1e3_penalty = logistic_regression(feature_matrix_train,\n",
    "                                               sentiment_train,\n",
    "                                               np.zeros(194),\n",
    "                                               5e-6,\n",
    "                                               1e3,\n",
    "                                               501)\n",
    "\n",
    "coefficients_1e5_penalty = logistic_regression(feature_matrix_train,\n",
    "                                               sentiment_train,\n",
    "                                               np.zeros(194),\n",
    "                                               5e-6,\n",
    "                                               1e5,\n",
    "                                               501)"
   ]
  },
  {
   "cell_type": "markdown",
   "metadata": {},
   "source": [
    "### Compare coefficients"
   ]
  },
  {
   "cell_type": "code",
   "execution_count": 26,
   "metadata": {},
   "outputs": [],
   "source": [
    "coefficients_0_penalty_nointercept = list(coefficients_0_penalty[1:])\n",
    "\n",
    "words_with_coefficients = sorted(zip(important_words, coefficients_0_penalty_nointercept), key=lambda x: x[1], reverse=True)"
   ]
  },
  {
   "cell_type": "code",
   "execution_count": 27,
   "metadata": {},
   "outputs": [
    {
     "name": "stdout",
     "output_type": "stream",
     "text": [
      "['love', 'loves', 'easy', 'perfect', 'great']\n"
     ]
    }
   ],
   "source": [
    "positive_words_top5 = [p[0] for p in words_with_coefficients[:5]]\n",
    "\n",
    "print(positive_words_top5)"
   ]
  },
  {
   "cell_type": "code",
   "execution_count": 31,
   "metadata": {},
   "outputs": [
    {
     "name": "stdout",
     "output_type": "stream",
     "text": [
      "['disappointed', 'money', 'return', 'waste', 'returned']\n"
     ]
    }
   ],
   "source": [
    "negative_words_top5 = [p[0] for p in reversed(words_with_coefficients[-5:])]\n",
    "\n",
    "print(negative_words_top5)"
   ]
  },
  {
   "cell_type": "code",
   "execution_count": 59,
   "metadata": {},
   "outputs": [],
   "source": [
    "data = [ coefficients_0_penalty\n",
    "       , coefficients_4_penalty\n",
    "       , coefficients_10_penalty\n",
    "       , coefficients_1e2_penalty\n",
    "       , coefficients_1e3_penalty\n",
    "       , coefficients_1e5_penalty\n",
    "       ]\n",
    "\n",
    "l2_penalty_list = [0, 4, 10, 1e2, 1e3, 1e5]\n",
    "\n",
    "table = dict(zip(l2_penalty_list, data))"
   ]
  },
  {
   "cell_type": "code",
   "execution_count": 60,
   "metadata": {},
   "outputs": [
    {
     "data": {
      "image/png": "[encoded data removed]",
      "text/plain": [
       "<Figure size 720x432 with 1 Axes>"
      ]
     },
     "metadata": {},
     "output_type": "display_data"
    }
   ],
   "source": [
    "import matplotlib.pyplot as plt\n",
    "%matplotlib inline\n",
    "plt.rcParams['figure.figsize'] = 10, 6\n",
    "\n",
    "def make_coefficient_plot(positive_words, negative_words, table):\n",
    "    cmap_positive = plt.get_cmap('Reds')\n",
    "    cmap_negative = plt.get_cmap('Blues')\n",
    "    \n",
    "    plt.plot(l2_penalty_list, [0.]*len(l2_penalty_list), '--', lw=1, color='k')\n",
    "\n",
    "    for i in range(len(positive_words)):\n",
    "        word = positive_words[i]\n",
    "        color = cmap_positive(0.8 * ((i+1) / (len(positive_words)*1.2) + 0.15))\n",
    "        plt.plot(table.keys(),\n",
    "                 [v[important_words.index(word) + 1] for v in table.values()],\n",
    "                 '-',\n",
    "                 label=word,\n",
    "                 linewidth=4.0,\n",
    "                 color=color)\n",
    "\n",
    "    for i in range(len(negative_words)):\n",
    "        word = negative_words[i]\n",
    "        color = cmap_negative(0.8 * ((i+1) / (len(negative_words)*1.2) + 0.15))\n",
    "        plt.plot(table.keys(),\n",
    "                 [v[important_words.index(word) + 1] for v in table.values()],\n",
    "                 '-',\n",
    "                 label=word,\n",
    "                 linewidth=4.0,\n",
    "                 color=color)\n",
    "\n",
    "    plt.legend(loc='best', ncol=3, prop={'size':16}, columnspacing=0.5)\n",
    "    plt.axis([1, 1e5, -1, 2])\n",
    "    plt.title('Coefficient path')\n",
    "    plt.xlabel('L2 penalty ($\\lambda$)')\n",
    "    plt.ylabel('Coefficient value')\n",
    "    plt.xscale('log')\n",
    "    plt.rcParams.update({'font.size': 18})\n",
    "    plt.tight_layout()\n",
    "\n",
    "\n",
    "make_coefficient_plot(positive_words_top5, negative_words_top5, table)\n"
   ]
  },
  {
   "cell_type": "markdown",
   "metadata": {},
   "source": [
    "### Measuring accuracy"
   ]
  },
  {
   "cell_type": "code",
   "execution_count": 66,
   "metadata": {},
   "outputs": [],
   "source": [
    "def calc_accuracy(features, coefficients, labels):\n",
    "    scores = np.dot(features, coefficients)\n",
    "    df = pd.DataFrame({ 'sentiment': labels })\n",
    "    df['predicted_sentiment'] = [1 if s > 0 else -1 for s in scores]\n",
    "    df['is_correct'] = (df['predicted_sentiment'] - df['sentiment']).apply(lambda x: True if x == 0 else False)\n",
    "    return df[df['is_correct'] == True]['is_correct'].size / df['is_correct'].size"
   ]
  },
  {
   "cell_type": "code",
   "execution_count": 71,
   "metadata": {},
   "outputs": [
    {
     "name": "stdout",
     "output_type": "stream",
     "text": [
      "0         \t0.785156\n",
      "4         \t0.785109\n",
      "10        \t0.784991\n",
      "100.0     \t0.783976\n",
      "1000.0    \t0.775855\n",
      "100000.0  \t0.680366\n"
     ]
    }
   ],
   "source": [
    "# train data\n",
    "\n",
    "for k, v in table.items():\n",
    "    accuracy = calc_accuracy(feature_matrix_train, v, sentiment_train)\n",
    "    print('%-10s\\t%f' % (k, accuracy))"
   ]
  },
  {
   "cell_type": "code",
   "execution_count": 72,
   "metadata": {},
   "outputs": [
    {
     "name": "stdout",
     "output_type": "stream",
     "text": [
      "0         \t0.781440\n",
      "4         \t0.781533\n",
      "10        \t0.781720\n",
      "100.0     \t0.781066\n",
      "1000.0    \t0.771357\n",
      "100000.0  \t0.667818\n"
     ]
    }
   ],
   "source": [
    "# validation data\n",
    "\n",
    "for k, v in table.items():\n",
    "    accuracy = calc_accuracy(feature_matrix_valid, v, sentiment_valid)\n",
    "    print('%-10s\\t%f' % (k, accuracy))"
   ]
  },
  {
   "cell_type": "code",
   "execution_count": null,
   "metadata": {},
   "outputs": [],
   "source": []
  }
 ],
 "metadata": {
  "kernelspec": {
   "display_name": "Python 3",
   "language": "python",
   "name": "python3"
  },
  "language_info": {
   "codemirror_mode": {
    "name": "ipython",
    "version": 3
   },
   "file_extension": ".py",
   "mimetype": "text/x-python",
   "name": "python",
   "nbconvert_exporter": "python",
   "pygments_lexer": "ipython3",
   "version": "3.6.5"
  }
 },
 "nbformat": 4,
 "nbformat_minor": 2
}
